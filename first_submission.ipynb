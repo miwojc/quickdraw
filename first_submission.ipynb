{
 "cells": [
  {
   "cell_type": "code",
   "execution_count": 27,
   "metadata": {},
   "outputs": [],
   "source": [
    "%matplotlib inline\n",
    "%reload_ext autoreload\n",
    "%autoreload 2\n",
    "import matplotlib.pyplot as plt\n",
    "import pandas as pd\n",
    "import numpy as np\n",
    "from pathlib import Path\n",
    "\n",
    "from fastai import *\n",
    "from fastai.vision import *\n",
    "\n",
    "import json\n",
    "\n",
    "from utils import *"
   ]
  },
  {
   "cell_type": "code",
   "execution_count": 2,
   "metadata": {},
   "outputs": [],
   "source": [
    "# NUM_SAMPLES_PER_CLASS = 1_000\n",
    "# NUM_VAL = 50 * 340"
   ]
  },
  {
   "cell_type": "code",
   "execution_count": 3,
   "metadata": {},
   "outputs": [],
   "source": [
    "NUM_SAMPLES_PER_CLASS = 100\n",
    "NUM_VAL = 20 * 340"
   ]
  },
  {
   "cell_type": "code",
   "execution_count": 4,
   "metadata": {},
   "outputs": [],
   "source": [
    "PATH = Path('/home/nbuser/data/quickdraw/txt')"
   ]
  },
  {
   "cell_type": "markdown",
   "metadata": {},
   "source": [
    "### Generate data from csvs"
   ]
  },
  {
   "cell_type": "code",
   "execution_count": 6,
   "metadata": {},
   "outputs": [],
   "source": [
    "PATH.mkdir(exist_ok=True)\n",
    "(PATH/'train').mkdir(exist_ok=True)\n",
    "(PATH/'test').mkdir(exist_ok=True)"
   ]
  },
  {
   "cell_type": "code",
   "execution_count": 7,
   "metadata": {},
   "outputs": [],
   "source": [
    "def create_train_txts_from_df(path):\n",
    "    df = pd.read_csv(path)\n",
    "    klass = '_'.join(path.stem.split())\n",
    "    (PATH/'train'/klass).mkdir(exist_ok=True)\n",
    "    for row in df.sample(NUM_SAMPLES_PER_CLASS).iterrows():\n",
    "        example = {\n",
    "            'countrycode': row[1].countrycode,\n",
    "            'drawing': json.loads(row[1].drawing),\n",
    "            'key_id': row[1].key_id,\n",
    "            'recognized': row[1].recognized\n",
    "        }\n",
    "        with open(PATH/'train'/klass/f'{example[\"key_id\"]}.txt', mode='w') as f: json.dump(example, f)\n",
    "\n",
    "def create_test_txts_from_df(path):\n",
    "    df = pd.read_csv(path)\n",
    "    for row in df.iterrows():\n",
    "        example = {\n",
    "            'countrycode': row[1].countrycode,\n",
    "            'drawing': json.loads(row[1].drawing),\n",
    "            'key_id': row[1].key_id\n",
    "        }\n",
    "        with open(PATH/'test'/f'{example[\"key_id\"]}.txt', mode='w') as f: json.dump(example, f)"
   ]
  },
  {
   "cell_type": "code",
   "execution_count": 35,
   "metadata": {},
   "outputs": [
    {
     "name": "stdout",
     "output_type": "stream",
     "text": [
      "CPU times: user 44 s, sys: 7.63 s, total: 51.6 s\n",
      "Wall time: 51.8 s\n"
     ]
    }
   ],
   "source": [
    "%time create_test_txts_from_df('/home/nbuser/data/quickdraw/test_simplified.csv')"
   ]
  },
  {
   "cell_type": "code",
   "execution_count": 36,
   "metadata": {},
   "outputs": [
    {
     "name": "stdout",
     "output_type": "stream",
     "text": [
      "CPU times: user 5min, sys: 22.5 s, total: 5min 22s\n",
      "Wall time: 5min 39s\n"
     ]
    }
   ],
   "source": [
    "%time for p in Path('/home/nbuser/data/quickdraw/train').iterdir(): create_train_txts_from_df(p)"
   ]
  },
  {
   "cell_type": "markdown",
   "metadata": {},
   "source": [
    "###  Create ImageDataBunch using the data block API"
   ]
  },
  {
   "cell_type": "code",
   "execution_count": 38,
   "metadata": {},
   "outputs": [],
   "source": [
    "# sz = 128\n",
    "# bs = 640"
   ]
  },
  {
   "cell_type": "code",
   "execution_count": 8,
   "metadata": {},
   "outputs": [],
   "source": [
    "sz = 32\n",
    "bs = 640"
   ]
  },
  {
   "cell_type": "code",
   "execution_count": 9,
   "metadata": {},
   "outputs": [],
   "source": [
    "def create_func(path):\n",
    "    with open(path) as f: j = json.load(f)\n",
    "    drawing = list2drawing(j['drawing'], size=sz)\n",
    "    tensor = drawing2tensor(drawing)\n",
    "    return Image(tensor.div_(255))"
   ]
  },
  {
   "cell_type": "code",
   "execution_count": 10,
   "metadata": {},
   "outputs": [],
   "source": [
    "item_list = ItemList.from_folder(PATH/'train', create_func=create_func)"
   ]
  },
  {
   "cell_type": "code",
   "execution_count": 11,
   "metadata": {},
   "outputs": [],
   "source": [
    "idxs = np.arange(item_list.items.shape[0])\n",
    "np.random.shuffle(idxs)\n",
    "val_idxs = idxs[:NUM_VAL]"
   ]
  },
  {
   "cell_type": "code",
   "execution_count": 12,
   "metadata": {},
   "outputs": [],
   "source": [
    "item_lists = item_list.split_by_idx(val_idxs)"
   ]
  },
  {
   "cell_type": "code",
   "execution_count": 13,
   "metadata": {},
   "outputs": [],
   "source": [
    "label_lists = item_lists.label_from_folder()\n",
    "pd.to_pickle(label_lists.train.y.classes, '/home/nbuser/data/quickdraw/classes.pkl')"
   ]
  },
  {
   "cell_type": "code",
   "execution_count": 14,
   "metadata": {},
   "outputs": [],
   "source": [
    "classes = pd.read_pickle('/home/nbuser/data/quickdraw/classes.pkl')\n",
    "\n",
    "label_lists = item_lists.label_from_folder(classes=classes)\n",
    "\n",
    "test_items = ItemList.from_folder(PATH/'test', create_func=create_func)\n",
    "label_lists.add_test(test_items);"
   ]
  },
  {
   "cell_type": "code",
   "execution_count": 15,
   "metadata": {},
   "outputs": [],
   "source": [
    "train_dl = DataLoader(label_lists.train, bs, True, num_workers=12)\n",
    "valid_dl = DataLoader(label_lists.valid, 2*bs, False, num_workers=12)\n",
    "test_dl = DataLoader(label_lists.test, 2*bs, False, num_workers=12)\n",
    "\n",
    "data_bunch = ImageDataBunch(train_dl, valid_dl, test_dl)"
   ]
  },
  {
   "cell_type": "code",
   "execution_count": 16,
   "metadata": {},
   "outputs": [],
   "source": [
    "pd.to_pickle(data_bunch.batch_stats(), f'/home/nbuser/data/quickdraw/batch_stats_{sz}.pkl')"
   ]
  },
  {
   "cell_type": "code",
   "execution_count": 17,
   "metadata": {},
   "outputs": [],
   "source": [
    "batch_stats = pd.read_pickle(f'/home/nbuser/data/quickdraw/batch_stats_{sz}.pkl')"
   ]
  },
  {
   "cell_type": "code",
   "execution_count": 18,
   "metadata": {},
   "outputs": [],
   "source": [
    "data_bunch.normalize(batch_stats);"
   ]
  },
  {
   "cell_type": "code",
   "execution_count": 19,
   "metadata": {},
   "outputs": [
    {
     "data": {
      "image/png": "[encoded data removed]",
      "text/plain": [
       "<Figure size 648x720 with 16 Axes>"
      ]
     },
     "metadata": {
      "needs_background": "light"
     },
     "output_type": "display_data"
    }
   ],
   "source": [
    "data_bunch.show_batch(rows=4)"
   ]
  },
  {
   "cell_type": "markdown",
   "metadata": {},
   "source": [
    "### Train"
   ]
  },
  {
   "cell_type": "code",
   "execution_count": 20,
   "metadata": {},
   "outputs": [],
   "source": [
    "name = f'res18-{sz}'"
   ]
  },
  {
   "cell_type": "code",
   "execution_count": 52,
   "metadata": {},
   "outputs": [],
   "source": [
    "# learn = create_cnn(data_bunch, models.resnet34, metrics=[accuracy, map3])"
   ]
  },
  {
   "cell_type": "code",
   "execution_count": 21,
   "metadata": {},
   "outputs": [],
   "source": [
    "learn = create_cnn(data_bunch, models.resnet18, metrics=[accuracy, map3])"
   ]
  },
  {
   "cell_type": "code",
   "execution_count": 54,
   "metadata": {},
   "outputs": [
    {
     "name": "stdout",
     "output_type": "stream",
     "text": [
      "Total time: 00:34\n",
      "epoch  train_loss  valid_loss  accuracy  map3    \n",
      "1      5.126429    4.172521    0.156029  0.215343  (00:17)\n",
      "2      4.184863    3.805861    0.211324  0.278652  (00:17)\n",
      "\n"
     ]
    }
   ],
   "source": [
    "learn.fit_one_cycle(2)"
   ]
  },
  {
   "cell_type": "code",
   "execution_count": 55,
   "metadata": {},
   "outputs": [],
   "source": [
    "learn.save(f'{name}-stage-1')"
   ]
  },
  {
   "cell_type": "code",
   "execution_count": 56,
   "metadata": {},
   "outputs": [],
   "source": [
    "learn.unfreeze()"
   ]
  },
  {
   "cell_type": "code",
   "execution_count": 57,
   "metadata": {},
   "outputs": [
    {
     "name": "stdout",
     "output_type": "stream",
     "text": [
      "Total time: 02:08\n",
      "epoch  train_loss  valid_loss  accuracy  map3    \n",
      "1      3.475762    3.092720    0.323971  0.408603  (00:23)\n",
      "2      2.940909    2.667531    0.400735  0.490686  (00:20)\n",
      "3      2.471266    2.385173    0.450147  0.542525  (00:20)\n",
      "4      2.019845    2.204197    0.489853  0.579093  (00:20)\n",
      "5      1.577934    2.114505    0.517647  0.602696  (00:20)\n",
      "6      1.287102    2.104397    0.518529  0.604338  (00:20)\n",
      "\n"
     ]
    }
   ],
   "source": [
    "learn.fit_one_cycle(6, max_lr=6e-4)"
   ]
  },
  {
   "cell_type": "code",
   "execution_count": 58,
   "metadata": {},
   "outputs": [],
   "source": [
    "learn.save(f'{name}-stage-2')"
   ]
  },
  {
   "cell_type": "markdown",
   "metadata": {},
   "source": [
    "### Predict"
   ]
  },
  {
   "cell_type": "code",
   "execution_count": 22,
   "metadata": {},
   "outputs": [],
   "source": [
    "learn.load(f'{name}-stage-2');"
   ]
  },
  {
   "cell_type": "code",
   "execution_count": 23,
   "metadata": {},
   "outputs": [],
   "source": [
    "preds, _ = learn.get_preds(ds_type=DatasetType.Test)"
   ]
  },
  {
   "cell_type": "code",
   "execution_count": 35,
   "metadata": {},
   "outputs": [
    {
     "name": "stdout",
     "output_type": "stream",
     "text": [
      "Saved to csv\n"
     ]
    }
   ],
   "source": [
    "create_submission(preds, data_bunch.test_dl, name, classes)"
   ]
  },
  {
   "cell_type": "code",
   "execution_count": 36,
   "metadata": {},
   "outputs": [
    {
     "data": {
      "text/html": [
       "<div>\n",
       "<style scoped>\n",
       "    .dataframe tbody tr th:only-of-type {\n",
       "        vertical-align: middle;\n",
       "    }\n",
       "\n",
       "    .dataframe tbody tr th {\n",
       "        vertical-align: top;\n",
       "    }\n",
       "\n",
       "    .dataframe thead th {\n",
       "        text-align: right;\n",
       "    }\n",
       "</style>\n",
       "<table border=\"1\" class=\"dataframe\">\n",
       "  <thead>\n",
       "    <tr style=\"text-align: right;\">\n",
       "      <th></th>\n",
       "      <th>key_id</th>\n",
       "      <th>word</th>\n",
       "    </tr>\n",
       "  </thead>\n",
       "  <tbody>\n",
       "    <tr>\n",
       "      <th>0</th>\n",
       "      <td>9570467480642369</td>\n",
       "      <td>van bus school_bus</td>\n",
       "    </tr>\n",
       "    <tr>\n",
       "      <th>1</th>\n",
       "      <td>9612342540740332</td>\n",
       "      <td>calendar spreadsheet calculator</td>\n",
       "    </tr>\n",
       "    <tr>\n",
       "      <th>2</th>\n",
       "      <td>9981176623219988</td>\n",
       "      <td>clock compass baseball</td>\n",
       "    </tr>\n",
       "    <tr>\n",
       "      <th>3</th>\n",
       "      <td>9811147621565476</td>\n",
       "      <td>bathtub swan snorkel</td>\n",
       "    </tr>\n",
       "    <tr>\n",
       "      <th>4</th>\n",
       "      <td>9544081646255394</td>\n",
       "      <td>elbow foot leg</td>\n",
       "    </tr>\n",
       "  </tbody>\n",
       "</table>\n",
       "</div>"
      ],
      "text/plain": [
       "             key_id                             word\n",
       "0  9570467480642369               van bus school_bus\n",
       "1  9612342540740332  calendar spreadsheet calculator\n",
       "2  9981176623219988           clock compass baseball\n",
       "3  9811147621565476             bathtub swan snorkel\n",
       "4  9544081646255394                   elbow foot leg"
      ]
     },
     "execution_count": 36,
     "metadata": {},
     "output_type": "execute_result"
    }
   ],
   "source": [
    "pd.read_csv(f'/home/nbuser/data/quickdraw/{name}.csv.gz').head()"
   ]
  },
  {
   "cell_type": "code",
   "execution_count": 37,
   "metadata": {},
   "outputs": [
    {
     "name": "stdout",
     "output_type": "stream",
     "text": [
      "Warning: Your Kaggle API key is readable by otherusers on this system! To fix this, you can run'chmod 600 /home/nbuser/.kaggle/kaggle.json'\n",
      "100%|██████████████████████████████████████| 1.55M/1.55M [00:01<00:00, 1.36MB/s]\n",
      "Successfully submitted to Quick, Draw! Doodle Recognition Challenge"
     ]
    }
   ],
   "source": [
    "!kaggle competitions submit -c quickdraw-doodle-recognition -f /home/nbuser/data/quickdraw/{name}.csv.gz -m \"{name}\""
   ]
  }
 ],
 "metadata": {
  "kernelspec": {
   "display_name": "Python 3",
   "language": "python",
   "name": "python3"
  },
  "language_info": {
   "codemirror_mode": {
    "name": "ipython",
    "version": 3
   },
   "file_extension": ".py",
   "mimetype": "text/x-python",
   "name": "python",
   "nbconvert_exporter": "python",
   "pygments_lexer": "ipython3",
   "version": "3.7.0"
  }
 },
 "nbformat": 4,
 "nbformat_minor": 2
}
